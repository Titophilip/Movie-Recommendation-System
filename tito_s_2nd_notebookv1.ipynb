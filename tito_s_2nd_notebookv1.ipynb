{
  "metadata": {
    "kernelspec": {
      "display_name": "Python 3",
      "name": "python3"
    },
    "language_info": {
      "name": "python",
      "version": "3.10.13",
      "mimetype": "text/x-python",
      "codemirror_mode": {
        "name": "ipython",
        "version": 3
      },
      "pygments_lexer": "ipython3",
      "nbconvert_exporter": "python",
      "file_extension": ".py"
    },
    "kaggle": {
      "accelerator": "none",
      "dataSources": [
        {
          "sourceId": 81285,
          "databundleVersionId": 8778365,
          "sourceType": "competition"
        }
      ],
      "dockerImageVersionId": 30732,
      "isInternetEnabled": true,
      "language": "python",
      "sourceType": "notebook",
      "isGpuEnabled": false
    },
    "colab": {
      "provenance": [],
      "gpuType": "V28",
      "include_colab_link": true
    },
    "accelerator": "TPU"
  },
  "nbformat_minor": 0,
  "nbformat": 4,
  "cells": [
    {
      "cell_type": "markdown",
      "metadata": {
        "id": "view-in-github",
        "colab_type": "text"
      },
      "source": [
        "<a href=\"https://colab.research.google.com/github/Titophilip/Movie-Recommendation-System/blob/main/tito_s_2nd_notebookv1.ipynb\" target=\"_parent\"><img src=\"https://colab.research.google.com/assets/colab-badge.svg\" alt=\"Open In Colab\"/></a>"
      ]
    },
    {
      "cell_type": "code",
      "source": [
        "!pip install scikit-surprise"
      ],
      "metadata": {
        "colab": {
          "base_uri": "https://localhost:8080/"
        },
        "id": "zhXl5XCvQdIG",
        "outputId": "c285bd6e-a381-4c99-89ac-b633e1c2a168"
      },
      "execution_count": 1,
      "outputs": [
        {
          "output_type": "stream",
          "name": "stdout",
          "text": [
            "Collecting scikit-surprise\n",
            "  Downloading scikit_surprise-1.1.4.tar.gz (154 kB)\n",
            "\u001b[2K     \u001b[90m━━━━━━━━━━━━━━━━━━━━━━━━━━━━━━━━━━━━━━━━\u001b[0m \u001b[32m154.4/154.4 kB\u001b[0m \u001b[31m1.4 MB/s\u001b[0m eta \u001b[36m0:00:00\u001b[0m\n",
            "\u001b[?25h  Installing build dependencies ... \u001b[?25l\u001b[?25hdone\n",
            "  Getting requirements to build wheel ... \u001b[?25l\u001b[?25hdone\n",
            "  Preparing metadata (pyproject.toml) ... \u001b[?25l\u001b[?25hdone\n",
            "Requirement already satisfied: joblib>=1.2.0 in /usr/local/lib/python3.10/dist-packages (from scikit-surprise) (1.4.2)\n",
            "Requirement already satisfied: numpy>=1.19.5 in /usr/local/lib/python3.10/dist-packages (from scikit-surprise) (1.25.2)\n",
            "Requirement already satisfied: scipy>=1.6.0 in /usr/local/lib/python3.10/dist-packages (from scikit-surprise) (1.11.4)\n",
            "Building wheels for collected packages: scikit-surprise\n",
            "  Building wheel for scikit-surprise (pyproject.toml) ... \u001b[?25l\u001b[?25hdone\n",
            "  Created wheel for scikit-surprise: filename=scikit_surprise-1.1.4-cp310-cp310-linux_x86_64.whl size=2357252 sha256=0bc706db8a6a716251a29560727f7deb38f42ddbab7ed62084b1cb7d407837de\n",
            "  Stored in directory: /root/.cache/pip/wheels/4b/3f/df/6acbf0a40397d9bf3ff97f582cc22fb9ce66adde75bc71fd54\n",
            "Successfully built scikit-surprise\n",
            "Installing collected packages: scikit-surprise\n",
            "Successfully installed scikit-surprise-1.1.4\n"
          ]
        }
      ]
    },
    {
      "cell_type": "code",
      "source": [
        "import pandas as pd\n",
        "from surprise import Dataset, Reader, KNNBasic\n",
        "from surprise.model_selection import train_test_split\n",
        "from surprise import accuracy"
      ],
      "metadata": {
        "execution": {
          "iopub.status.busy": "2024-06-17T12:43:33.437326Z",
          "iopub.execute_input": "2024-06-17T12:43:33.437844Z",
          "iopub.status.idle": "2024-06-17T12:43:33.448626Z",
          "shell.execute_reply.started": "2024-06-17T12:43:33.437807Z",
          "shell.execute_reply": "2024-06-17T12:43:33.447238Z"
        },
        "trusted": true,
        "id": "wWvX_sfjQVQ9"
      },
      "execution_count": 2,
      "outputs": []
    },
    {
      "cell_type": "code",
      "source": [
        "from google.colab import drive\n",
        "drive.mount('/content/drive')"
      ],
      "metadata": {
        "colab": {
          "base_uri": "https://localhost:8080/"
        },
        "id": "RJVgot9IQfkS",
        "outputId": "e3ecc29e-eef1-4a0d-fa76-c78fd97087a2"
      },
      "execution_count": 3,
      "outputs": [
        {
          "output_type": "stream",
          "name": "stdout",
          "text": [
            "Mounted at /content/drive\n"
          ]
        }
      ]
    },
    {
      "cell_type": "code",
      "source": [
        "# Load the training data\n",
        "train_df = pd.read_csv('/content/drive/MyDrive/alx-movie-recommendation-project-2024/train.csv')\n",
        "test_df = pd.read_csv('/content/drive/MyDrive/alx-movie-recommendation-project-2024/test.csv')\n",
        "\n",
        "# Prepare the data for the Surprise library\n",
        "reader = Reader(rating_scale=(0.5, 5.0))\n",
        "data = Dataset.load_from_df(train_df[['userId', 'movieId', 'rating']], reader)\n"
      ],
      "metadata": {
        "execution": {
          "iopub.status.busy": "2024-06-17T12:34:31.304940Z",
          "iopub.execute_input": "2024-06-17T12:34:31.305482Z",
          "iopub.status.idle": "2024-06-17T12:34:42.892254Z",
          "shell.execute_reply.started": "2024-06-17T12:34:31.305446Z",
          "shell.execute_reply": "2024-06-17T12:34:42.891376Z"
        },
        "trusted": true,
        "id": "9RhESppJQVQ_"
      },
      "execution_count": 4,
      "outputs": []
    },
    {
      "cell_type": "code",
      "source": [
        "# Split the data into training and validation sets\n",
        "trainset, validationset = train_test_split(data, test_size=0.2)\n",
        "\n",
        "# Define the similarity options and train the model\n",
        "sim_options = {\n",
        "    'name': 'cosine',\n",
        "    'user_based': False  # Compute similarities between items\n",
        "}\n",
        "algo = KNNBasic(sim_options=sim_options)\n",
        "\n",
        "# Train the model on the training set\n",
        "algo.fit(trainset)"
      ],
      "metadata": {
        "execution": {
          "iopub.status.busy": "2024-06-17T12:34:52.138750Z",
          "iopub.execute_input": "2024-06-17T12:34:52.139201Z",
          "iopub.status.idle": "2024-06-17T12:35:19.106917Z",
          "shell.execute_reply.started": "2024-06-17T12:34:52.139152Z",
          "shell.execute_reply": "2024-06-17T12:35:19.105912Z"
        },
        "trusted": true,
        "colab": {
          "base_uri": "https://localhost:8080/"
        },
        "id": "-upqe36IQVQ_",
        "outputId": "e135fac8-a4b0-4433-fdd4-ba7f93ab00a1"
      },
      "execution_count": 5,
      "outputs": [
        {
          "output_type": "stream",
          "name": "stdout",
          "text": [
            "Computing the cosine similarity matrix...\n",
            "Done computing similarity matrix.\n"
          ]
        },
        {
          "output_type": "execute_result",
          "data": {
            "text/plain": [
              "<surprise.prediction_algorithms.knns.KNNBasic at 0x796ab8c1fc70>"
            ]
          },
          "metadata": {},
          "execution_count": 5
        }
      ]
    },
    {
      "cell_type": "code",
      "source": [
        "# Evaluate the model on the validation set\n",
        "predictions = algo.test(validationset)\n",
        "rmse = accuracy.rmse(predictions)\n",
        "print(f'Validation RMSE: {rmse}')"
      ],
      "metadata": {
        "execution": {
          "iopub.status.busy": "2024-06-17T12:44:08.237770Z",
          "iopub.execute_input": "2024-06-17T12:44:08.239981Z",
          "iopub.status.idle": "2024-06-17T12:44:18.079303Z",
          "shell.execute_reply.started": "2024-06-17T12:44:08.239924Z",
          "shell.execute_reply": "2024-06-17T12:44:18.078250Z"
        },
        "trusted": true,
        "colab": {
          "base_uri": "https://localhost:8080/"
        },
        "id": "EtCMxkFRQVRB",
        "outputId": "f426e021-a5fe-4184-9e45-ada58500a2c6"
      },
      "execution_count": 6,
      "outputs": [
        {
          "output_type": "stream",
          "name": "stdout",
          "text": [
            "RMSE: 0.9395\n",
            "Validation RMSE: 0.939526042551823\n"
          ]
        }
      ]
    },
    {
      "cell_type": "code",
      "source": [
        "test_df1 = test_df.head(1000)"
      ],
      "metadata": {
        "execution": {
          "iopub.status.busy": "2024-06-17T12:50:31.648604Z",
          "iopub.execute_input": "2024-06-17T12:50:31.649526Z",
          "iopub.status.idle": "2024-06-17T12:50:31.654614Z",
          "shell.execute_reply.started": "2024-06-17T12:50:31.649488Z",
          "shell.execute_reply": "2024-06-17T12:50:31.653387Z"
        },
        "trusted": true,
        "id": "y-bLHOnNQVRC"
      },
      "execution_count": 7,
      "outputs": []
    },
    {
      "cell_type": "code",
      "source": [
        "# # Predict ratings for the test set and prepare the submission file\n",
        "# test_df1['Id'] = test_df1['userId'].astype(str) + '_' + test_df1['movieId'].astype(str)\n",
        "# test_df1['rating'] = test_df1.apply(lambda x: algo.predict(x['userId'], x['movieId']).est, axis=1)\n",
        "\n",
        "# test_df1.head(50)"
      ],
      "metadata": {
        "execution": {
          "iopub.status.busy": "2024-06-17T12:50:34.215492Z",
          "iopub.execute_input": "2024-06-17T12:50:34.216325Z",
          "iopub.status.idle": "2024-06-17T12:50:34.287808Z",
          "shell.execute_reply.started": "2024-06-17T12:50:34.216290Z",
          "shell.execute_reply": "2024-06-17T12:50:34.286735Z"
        },
        "trusted": true,
        "id": "4oZLOrG5QVRC"
      },
      "execution_count": 9,
      "outputs": []
    },
    {
      "cell_type": "code",
      "source": [
        "# Predict ratings for the test set and prepare the submission file\n",
        "test_df['Id'] = test_df['userId'].astype(str) + '_' + test_df['movieId'].astype(str)\n",
        "test_df['rating'] = test_df.apply(lambda x: algo.predict(x['userId'], x['movieId']).est, axis=1)\n"
      ],
      "metadata": {
        "id": "YO0qa2HKXoNg"
      },
      "execution_count": 10,
      "outputs": []
    },
    {
      "cell_type": "code",
      "source": [
        "# Step 11: Prepare the submission file\n",
        "submission_df = test_df[['Id', 'rating']]\n",
        "submission_df.to_csv('submission.csv', index=False)\n",
        "\n",
        "print(\"Submission file created: submission.csv\")"
      ],
      "metadata": {
        "colab": {
          "base_uri": "https://localhost:8080/"
        },
        "id": "aN_UvZIZXzS0",
        "outputId": "0151e30b-2bc9-4407-eeb6-9dbd8ccb105f"
      },
      "execution_count": 11,
      "outputs": [
        {
          "output_type": "stream",
          "name": "stdout",
          "text": [
            "Submission file created: submission.csv\n"
          ]
        }
      ]
    }
  ]
}